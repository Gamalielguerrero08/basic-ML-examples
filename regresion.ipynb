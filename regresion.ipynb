{
 "cells": [
  {
   "cell_type": "code",
   "execution_count": null,
   "metadata": {},
   "outputs": [],
   "source": [
    "# Importar bibliotecas\n",
    "import numpy as np\n",
    "import pandas as pd\n",
    "import matplotlib.pyplot as plt\n",
    "from sklearn.linear_model import LinearRegression"
   ]
  },
  {
   "cell_type": "code",
   "execution_count": null,
   "metadata": {},
   "outputs": [],
   "source": [
    "# Importar datos\n",
    "df = pd.read_csv('datos_casas.csv')\n",
    "df.head()"
   ]
  },
  {
   "cell_type": "code",
   "execution_count": null,
   "metadata": {},
   "outputs": [],
   "source": [
    "# Visualizar datos\n",
    "plt.scatter(df['Tamano'], df['Precio'])\n",
    "plt.xlabel('Tamaño')\n",
    "plt.ylabel('Precio')"
   ]
  },
  {
   "cell_type": "code",
   "execution_count": null,
   "metadata": {},
   "outputs": [],
   "source": [
    "# Crear y entrenar el modelo\n",
    "model = LinearRegression()\n",
    "model.fit(df[['Tamano']].values, df['Precio'].values)"
   ]
  },
  {
   "cell_type": "code",
   "execution_count": null,
   "metadata": {},
   "outputs": [],
   "source": [
    "# Visualizar modelo\n",
    "plt.scatter(df['Tamano'], df['Precio'])\n",
    "plt.plot(df['Tamano'], model.predict(df[['Tamano']].values), color='red')\n",
    "plt.xlabel('Tamaño')\n",
    "plt.ylabel('Precio')"
   ]
  },
  {
   "cell_type": "code",
   "execution_count": null,
   "metadata": {},
   "outputs": [],
   "source": [
    "# Predecir precio de una casa de 250 metros cuadrados (no está en el dataset)\n",
    "print(\"El precio de una casa de 250 metros cuadrados es:\", model.predict([[250]])[0])"
   ]
  }
 ],
 "metadata": {
  "kernelspec": {
   "display_name": "Python 3",
   "language": "python",
   "name": "python3"
  },
  "language_info": {
   "codemirror_mode": {
    "name": "ipython",
    "version": 3
   },
   "file_extension": ".py",
   "mimetype": "text/x-python",
   "name": "python",
   "nbconvert_exporter": "python",
   "pygments_lexer": "ipython3",
   "version": "3.9.13"
  },
  "orig_nbformat": 4,
  "vscode": {
   "interpreter": {
    "hash": "36d57e24ff0009f6dfff9160e88229d431cc6ed0063f5cd30ed601367525072e"
   }
  }
 },
 "nbformat": 4,
 "nbformat_minor": 2
}
